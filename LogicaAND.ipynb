{
  "nbformat": 4,
  "nbformat_minor": 0,
  "metadata": {
    "colab": {
      "name": "LogicaAND.ipynb",
      "provenance": [],
      "toc_visible": true,
      "mount_file_id": "18wxPH1lXq8ib2NNTQmHmqrJFqeihlzS-",
      "authorship_tag": "ABX9TyMSPlqv/rcohBZ9RQ2CxTs4",
      "include_colab_link": true
    },
    "kernelspec": {
      "name": "python3",
      "display_name": "Python 3"
    }
  },
  "cells": [
    {
      "cell_type": "markdown",
      "metadata": {
        "id": "view-in-github",
        "colab_type": "text"
      },
      "source": [
        "<a href=\"https://colab.research.google.com/github/ErnestoMedina99/FisicaComputacional2/blob/master/LogicaAND.ipynb\" target=\"_parent\"><img src=\"https://colab.research.google.com/assets/colab-badge.svg\" alt=\"Open In Colab\"/></a>"
      ]
    },
    {
      "cell_type": "code",
      "metadata": {
        "id": "hTFF2n6I4Os7",
        "colab_type": "code",
        "colab": {}
      },
      "source": [
        "#Se importan las librerías\n",
        "import numpy as np\n",
        "import tensorflow as tf\n",
        "import matplotlib.pyplot as plt\n",
        "import seaborn as sns"
      ],
      "execution_count": 0,
      "outputs": []
    },
    {
      "cell_type": "code",
      "metadata": {
        "id": "7Fhj62P74iZG",
        "colab_type": "code",
        "colab": {}
      },
      "source": [
        "#Definiendo parámetros\n",
        "\n",
        "#Cantidad de nodos: x_1, x_2, ..., x_n\n",
        "Input_Nodes = 2\n",
        "#Número de veces que se va a iterar el proceso de aprendizaje\n",
        "Num_Iteraciones = 2000\n",
        "#etha: el ancho de paso\n",
        "learning_rate = 0.01\n",
        "\n",
        "#w_i+1 = w_i + etha*error*x_i\n",
        "#B_i+1 = B_i + etha*error*B_i"
      ],
      "execution_count": 0,
      "outputs": []
    },
    {
      "cell_type": "code",
      "metadata": {
        "id": "EH8FJof35d81",
        "colab_type": "code",
        "colab": {}
      },
      "source": [
        "#Estableciendo los datos:\n",
        "\n",
        "#x_1   x_2  y_i\n",
        "# 0     0    0\n",
        "# 1     0    0\n",
        "# 1     1    1\n",
        "# 0     0    0\n",
        "\n",
        "#Arreglo de los x_i\n",
        "x = np.array([[0, 0], [1, 0], [1, 1], [0, 1]], np.float32)  # 4x2\n",
        "#Arreglo de las y_i\n",
        "y = np.array([0, 0, 1, 0], np.float32)                      # AND operation\n",
        "#Cambiando la matriz de y_i para que se puedan multiplicar las matrices\n",
        "y = np.reshape(y, [4,1])"
      ],
      "execution_count": 0,
      "outputs": []
    },
    {
      "cell_type": "code",
      "metadata": {
        "id": "8NFhKepG63BG",
        "colab_type": "code",
        "colab": {}
      },
      "source": [
        "#Declarando placeholder para las x\n",
        "X = tf.placeholder(tf.float32, shape=[4, 2])\n",
        "#Declarando placeholder para las y\n",
        "Y = tf.placeholder(tf.float32, shape=[4, 1])\n",
        "\n",
        "#Llenando matriz de pesos\n",
        "W = tf.Variable(tf.zeros([Input_Nodes, 1]), tf.float32)\n",
        "#Llenando matriz de bias\n",
        "B = tf.Variable(tf.zeros([1, 1]), tf.float32)\n",
        "\n",
        "#Consiguiendo matriz de y gorrito (que se va aproximando a y)\n",
        "yHat = tf.sigmoid( tf.add(tf.matmul(X, W), B) )        # 4x1\n",
        "#Se calcula el error\n",
        "err = Y - yHat\n",
        "#Se calcula la deltaW como el error por X\n",
        "deltaW = tf.matmul(tf.transpose(X), err )    # have to be 2x1\n",
        "#Se calcula la deltaB como el error por B\n",
        "deltaB = tf.reduce_sum(err, 0)      # 4, have to 1x1. sum all the biases? yes\n",
        "#Se calculan los siguientes pesos y bias\n",
        "W_ = W + learning_rate * deltaW\n",
        "B_ = B + learning_rate * deltaB"
      ],
      "execution_count": 0,
      "outputs": []
    },
    {
      "cell_type": "code",
      "metadata": {
        "id": "gCEeAx8u7lMP",
        "colab_type": "code",
        "colab": {}
      },
      "source": [
        "#Calculando la pérdida como la desviación estándar al cuadrado\n",
        "loss = tf.reduce_mean(tf.squared_difference(Y, yHat))\n",
        "\n",
        "#guardando\n",
        "tf.summary.scalar(\"loss\",loss)\n",
        "merged_op = tf.summary.merge_all()\n",
        "\n",
        "#Dejándolo en el directorio\n",
        "writer = tf.summary.FileWriter(\"/content/drive/My Drive/FisicaComputacional2/Tensorflow\")"
      ],
      "execution_count": 0,
      "outputs": []
    },
    {
      "cell_type": "code",
      "metadata": {
        "id": "WnJIZ7cB9DxX",
        "colab_type": "code",
        "colab": {}
      },
      "source": [
        "step = tf.group(W.assign(W_), B.assign(B_))\n",
        "\n",
        "sess = tf.Session()\n",
        "init = tf.global_variables_initializer()\n",
        "sess.run(init)\n",
        "writer.add_graph(sess.graph)\n",
        "\n",
        "for k in range(Num_Iteraciones):\n",
        "    _, summary = sess.run([step, merged_op], feed_dict={X: x, Y: y})\n",
        "    writer.add_summary(summary,k)\n",
        "\n",
        "W = np.squeeze(sess.run(W))\n",
        "b = np.squeeze(sess.run(B))"
      ],
      "execution_count": 0,
      "outputs": []
    },
    {
      "cell_type": "code",
      "metadata": {
        "id": "XEJiAGio-Exb",
        "colab_type": "code",
        "colab": {
          "base_uri": "https://localhost:8080/",
          "height": 180
        },
        "outputId": "ffdedf81-ffd4-4e0d-e679-fc87c7b78d19"
      },
      "source": [
        "#Comando para darle una estética distinta a las gráficas.\n",
        "#sns.set(rc={'figure.figsize':(12,12)})\n",
        "#figure(1, figsize=(12, 12))"
      ],
      "execution_count": 11,
      "outputs": [
        {
          "output_type": "error",
          "ename": "NameError",
          "evalue": "ignored",
          "traceback": [
            "\u001b[0;31m---------------------------------------------------------------------------\u001b[0m",
            "\u001b[0;31mNameError\u001b[0m                                 Traceback (most recent call last)",
            "\u001b[0;32m<ipython-input-11-8d97d7c69664>\u001b[0m in \u001b[0;36m<module>\u001b[0;34m()\u001b[0m\n\u001b[1;32m      1\u001b[0m \u001b[0msns\u001b[0m\u001b[0;34m.\u001b[0m\u001b[0mset\u001b[0m\u001b[0;34m(\u001b[0m\u001b[0mrc\u001b[0m\u001b[0;34m=\u001b[0m\u001b[0;34m{\u001b[0m\u001b[0;34m'figure.figsize'\u001b[0m\u001b[0;34m:\u001b[0m\u001b[0;34m(\u001b[0m\u001b[0;36m12\u001b[0m\u001b[0;34m,\u001b[0m\u001b[0;36m12\u001b[0m\u001b[0;34m)\u001b[0m\u001b[0;34m}\u001b[0m\u001b[0;34m)\u001b[0m\u001b[0;34m\u001b[0m\u001b[0;34m\u001b[0m\u001b[0m\n\u001b[0;32m----> 2\u001b[0;31m \u001b[0mfigure\u001b[0m\u001b[0;34m(\u001b[0m\u001b[0;36m1\u001b[0m\u001b[0;34m,\u001b[0m \u001b[0mfigsize\u001b[0m\u001b[0;34m=\u001b[0m\u001b[0;34m(\u001b[0m\u001b[0;36m12\u001b[0m\u001b[0;34m,\u001b[0m \u001b[0;36m12\u001b[0m\u001b[0;34m)\u001b[0m\u001b[0;34m)\u001b[0m\u001b[0;34m\u001b[0m\u001b[0;34m\u001b[0m\u001b[0m\n\u001b[0m",
            "\u001b[0;31mNameError\u001b[0m: name 'figure' is not defined"
          ]
        }
      ]
    },
    {
      "cell_type": "code",
      "metadata": {
        "id": "3KUtQQ9G9Mld",
        "colab_type": "code",
        "colab": {
          "base_uri": "https://localhost:8080/",
          "height": 754
        },
        "outputId": "0abd3ce5-81d1-473e-c7fa-7f91c0670f82"
      },
      "source": [
        "#Se grafica los datos diferenciados con la recta\n",
        "\n",
        "plot_x = np.array([np.min(x[:, 0] - 0.2), np.max(x[:, 1]+0.2)])\n",
        "plot_y = - 1 / W[1] * (W[0] * plot_x + b)\n",
        "plot_y = np.reshape(plot_y, [2, -1])\n",
        "plot_y = np.squeeze(plot_y)\n",
        "\n",
        "print('W: ' + str(W))\n",
        "print('b: ' + str(b))\n",
        "print('plot_y: '+ str(plot_y))\n",
        "\n",
        "plt.scatter(x[:, 0], x[:, 1], c = (0,0,1,0), s=100, cmap=\"viridis\" )\n",
        "plt.plot(plot_x, plot_y, color='k', linewidth=2)\n",
        "plt.xlim([-0.2, 1.2]); plt.ylim([-0.2, 1.25]);\n",
        "plt.show()"
      ],
      "execution_count": 12,
      "outputs": [
        {
          "output_type": "stream",
          "text": [
            "W: [2.6895783 2.6895783]\n",
            "b: -4.26431\n",
            "plot_y: [1.7854939  0.38549384]\n"
          ],
          "name": "stdout"
        },
        {
          "output_type": "display_data",
          "data": {
            "image/png": "[encoded data removed]",
            "text/plain": [
              "<Figure size 864x864 with 1 Axes>"
            ]
          },
          "metadata": {
            "tags": []
          }
        }
      ]
    },
    {
      "cell_type": "code",
      "metadata": {
        "id": "ZckngB8j9ztB",
        "colab_type": "code",
        "colab": {}
      },
      "source": [
        ""
      ],
      "execution_count": 0,
      "outputs": []
    }
  ]
}